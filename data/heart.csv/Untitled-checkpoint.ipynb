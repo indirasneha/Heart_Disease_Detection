{
 "cells": [
  {
   "cell_type": "code",
   "execution_count": null,
   "id": "72514e22-0b79-47b4-a341-508546b7a100",
   "metadata": {},
   "outputs": [],
   "source": []
  }
 ],
 "metadata": {
  "kernelspec": {
   "display_name": "",
   "name": ""
  },
  "language_info": {
   "name": ""
  }
 },
 "nbformat": 4,
 "nbformat_minor": 5
}
